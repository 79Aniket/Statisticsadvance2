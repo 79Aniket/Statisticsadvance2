{
 "cells": [
  {
   "cell_type": "markdown",
   "id": "c7f9f1d1-a662-4519-bc37-0cf9730fe9e6",
   "metadata": {},
   "source": [
    "## Q8: What is the z score? State the importance of the z score."
   ]
  },
  {
   "cell_type": "markdown",
   "id": "d84dcfa6-4398-447a-9d73-c6bc1f24741c",
   "metadata": {},
   "source": [
    "## A z score is a type of statistical measurement that gives an idea of how far a raw score is from the mean of a distribustion . A z score is used in z test for hypothesis testing \n",
    "\n",
    "## IMPORTANCE = it is usseful to standardize the values of a normal distribution by converting them into z-scores because:\n",
    "1. it allows researchers to calculate the probability of a score occurring withing a standard normal distribution\n",
    "2. it enables us to compare two scores from different samples which may have different means and standard deviations"
   ]
  },
  {
   "cell_type": "code",
   "execution_count": null,
   "id": "526f9eb0-85a8-4e5f-b4f2-78da0b3dbd77",
   "metadata": {},
   "outputs": [],
   "source": []
  },
  {
   "cell_type": "markdown",
   "id": "d5c0f6ee-9c27-44c6-91af-af54053b8fd9",
   "metadata": {},
   "source": [
    "## Q9: What is Central Limit Theorem? State the significance of the Central Limit Theorem."
   ]
  },
  {
   "cell_type": "markdown",
   "id": "6ba6e13c-ab8d-4b60-9cf0-b070da3c4106",
   "metadata": {},
   "source": [
    "## The central limit theorem says that the sampling distribution of the mean will always be normally distributed as the sample size is large enough. Regardless of whether the population has a normal possion binomial or any other distribution the sampling distribution of the mean will be normal.\n",
    "\n",
    "## SIGNIFICANCE = Political/election polling is a great example of how you can use CLT. These polls are used to estimate the number of people who support a specific candidate.\n",
    "## You use the CLT in various census fields to calculate various population details, such as family income, electricity consumption, individual salaries, and so on.\n"
   ]
  },
  {
   "cell_type": "code",
   "execution_count": null,
   "id": "30471e01-21a9-46f9-919c-ec108a61b4ab",
   "metadata": {},
   "outputs": [],
   "source": []
  },
  {
   "cell_type": "markdown",
   "id": "cec50198-a954-470f-bb77-e1d962da73b6",
   "metadata": {},
   "source": [
    "## Q10: State the assumptions of the Central Limit Theorem."
   ]
  },
  {
   "cell_type": "markdown",
   "id": "5a6b2984-96a4-4f40-aaff-c293d5f7a293",
   "metadata": {},
   "source": [
    "\n",
    "## The central limit theorem  has several assumptions. These assumptions are:\n",
    "\n",
    "## The random variables must be independent. This means that the outcome of one random variable does not affect the outcome of another random variable.\n",
    "## The random variables must be identically distributed. This means that they have the same mean and variance.\n",
    "## The random variables must have a finite variance. This means that the variance of the random variables must be non-zero.\n",
    "## The sample size must be large enough. The CLT states that the sample size must be large enough for the distribution of the sample mean to be approximately normal. The exact number of samples required depends on the variance of the random variables."
   ]
  },
  {
   "cell_type": "code",
   "execution_count": null,
   "id": "da07298f-1793-4955-9d88-2bdfa0bde2c7",
   "metadata": {},
   "outputs": [],
   "source": []
  },
  {
   "cell_type": "markdown",
   "id": "c3ee6c1e-f41a-464c-9bda-8919299c95ca",
   "metadata": {},
   "source": [
    "## Q4: Explain the importance of Normal Distribution. Give a few real-life examples of Normal\n",
    "## Distribution."
   ]
  },
  {
   "cell_type": "markdown",
   "id": "05526a74-122b-44f2-b349-eaa21a4259cd",
   "metadata": {},
   "source": [
    "## IMPORTANCE\n",
    "## 1.In case the sample size is large the normal distribution serves as good approximation.\n",
    "\n",
    "## 2.Due to its mathematical properties it is more popular and easy to calculate.\n",
    "\n",
    "##  3. It is used in statistical quality control in setting up of control limits.\n",
    "\n",
    "## Real Life Examples Of Normal Distribution:\n",
    "## Height. \n",
    "## Rolling A Dice. \n",
    "## Tossing A Coin."
   ]
  },
  {
   "cell_type": "code",
   "execution_count": null,
   "id": "e42c2d13-4a2b-4d95-a458-fb8e25442c24",
   "metadata": {},
   "outputs": [],
   "source": []
  },
  {
   "cell_type": "markdown",
   "id": "762ae6a9-93d3-4239-914c-de8c2859b0ca",
   "metadata": {},
   "source": [
    "## Q5: What is Bernaulli Distribution? Give an Example. What is the difference between Bernoulli\n",
    "## Distribution and Binomial Distribution?"
   ]
  },
  {
   "cell_type": "markdown",
   "id": "edd741fc-0df4-4863-a5aa-434e2da9a123",
   "metadata": {},
   "source": [
    "## Bernaulli Distribution =  In probability theory and statistics the Bernoulli distribution named afer swiss mathemiaical jacob bernoulli is the discrete probability distribution of a Random variable which takes the value 1 with probability p and the value 0 with probability q = 1-p less formally it can be thought of as a model for the set of possible out come of any single experimet that askes a yes- no question.\n",
    "\n",
    "\n",
    "\n",
    "## The Bernoulli distribution describes the probability of a single event occurring. The event can have two possible outcomes, which we typically call \"success\" and \"failure.\" The probability of success is denoted by p, and the probability of failure is denoted by 1 - p.\n",
    "\n",
    "## The binomial distribution describes the probability of getting a certain number of successes in a sequence of n independent Bernoulli trials.\n"
   ]
  },
  {
   "cell_type": "code",
   "execution_count": null,
   "id": "1856f172-137e-4027-8b76-db0e115eb3a1",
   "metadata": {},
   "outputs": [],
   "source": []
  },
  {
   "cell_type": "markdown",
   "id": "dbd5b435-8de3-47bb-9309-65f6b65daa10",
   "metadata": {},
   "source": [
    "## Q7: Explain uniform Distribution with an example."
   ]
  },
  {
   "cell_type": "markdown",
   "id": "83789755-572f-428c-ae22-390437134ed9",
   "metadata": {},
   "source": [
    "## In statistics, uniform distribution refers to a type of probability distribution in which all outcomes are equally likely.\n",
    "## There are two tpyes of uniform distribution 1. continuous uniform distribution, 2. Discrete uniform distribution\n",
    "##  example: \n",
    "## Rolling dice and coin tosses . \n",
    "## The probability of drawing any card from a deck of cards."
   ]
  },
  {
   "cell_type": "code",
   "execution_count": null,
   "id": "844a6d35-7685-44c5-b48d-8c0a2a27bf7e",
   "metadata": {},
   "outputs": [],
   "source": []
  },
  {
   "cell_type": "code",
   "execution_count": null,
   "id": "de5075f8-f20f-44d8-9cb8-022a54b162ca",
   "metadata": {},
   "outputs": [],
   "source": []
  }
 ],
 "metadata": {
  "kernelspec": {
   "display_name": "Python 3 (ipykernel)",
   "language": "python",
   "name": "python3"
  },
  "language_info": {
   "codemirror_mode": {
    "name": "ipython",
    "version": 3
   },
   "file_extension": ".py",
   "mimetype": "text/x-python",
   "name": "python",
   "nbconvert_exporter": "python",
   "pygments_lexer": "ipython3",
   "version": "3.10.8"
  }
 },
 "nbformat": 4,
 "nbformat_minor": 5
}
